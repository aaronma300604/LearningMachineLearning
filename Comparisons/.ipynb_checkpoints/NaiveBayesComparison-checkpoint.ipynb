{
 "cells": [
  {
   "cell_type": "code",
   "execution_count": 1,
   "id": "61e84115-d6f7-441d-8906-88aa7e4092f9",
   "metadata": {},
   "outputs": [],
   "source": [
    "from NaiveBayesClassifier import NaiveBayesClassifier \n",
    "import pandas as pd"
   ]
  },
  {
   "cell_type": "code",
   "execution_count": 2,
   "id": "bfdca76a-be89-45a7-a20c-a4a71fec96ec",
   "metadata": {},
   "outputs": [],
   "source": [
    "data = pd.read_csv(\"../datasets/cars.csv\")\n",
    "atribute_names = ['buying','maint','doors','persons','lug_boot','safety']\n",
    "objective_names = ['acceptability']"
   ]
  },
  {
   "cell_type": "code",
   "execution_count": 3,
   "id": "5cefc996-b692-4bf5-920f-d19e4241a227",
   "metadata": {},
   "outputs": [],
   "source": [
    "classifier = NaiveBayesClassifier(k=1)\n",
    "classifier.fit(dataf=data, x_names=atribute_names, y_names=objective_names)"
   ]
  },
  {
   "cell_type": "code",
   "execution_count": 4,
   "id": "196e4eb1-4708-44c1-a10c-85e00d364641",
   "metadata": {},
   "outputs": [
    {
     "data": {
      "text/plain": [
       "({'acc': -31.240123697577744,\n",
       "  'good': -34.480400510117896,\n",
       "  'unacc': -18.229669892846225,\n",
       "  'vgood': -37.65019558919418},\n",
       " 'unacc')"
      ]
     },
     "execution_count": 4,
     "metadata": {},
     "output_type": "execute_result"
    }
   ],
   "source": [
    "example = data.iloc[0,0:-1]\n",
    "classifier.predict(example)"
   ]
  },
  {
   "cell_type": "code",
   "execution_count": null,
   "id": "cff9b26f-3252-4f13-b7fd-85d888709652",
   "metadata": {},
   "outputs": [],
   "source": []
  }
 ],
 "metadata": {
  "kernelspec": {
   "display_name": "Python 3 (ipykernel)",
   "language": "python",
   "name": "python3"
  },
  "language_info": {
   "codemirror_mode": {
    "name": "ipython",
    "version": 3
   },
   "file_extension": ".py",
   "mimetype": "text/x-python",
   "name": "python",
   "nbconvert_exporter": "python",
   "pygments_lexer": "ipython3",
   "version": "3.11.0"
  }
 },
 "nbformat": 4,
 "nbformat_minor": 5
}
