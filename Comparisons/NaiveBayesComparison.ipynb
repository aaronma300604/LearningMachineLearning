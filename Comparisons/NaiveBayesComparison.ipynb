{
 "cells": [
  {
   "cell_type": "code",
   "execution_count": 10,
   "id": "61e84115-d6f7-441d-8906-88aa7e4092f9",
   "metadata": {},
   "outputs": [],
   "source": [
    "import sys\n",
    "import os\n",
    "sys.path.append(os.path.abspath(\"..\"))\n",
    "\n",
    "from Scratch.NaiveBayesClassifier import NaiveBayesClassifier \n",
    "import pandas as pd"
   ]
  },
  {
   "cell_type": "markdown",
   "id": "2a576913-f0f6-46c3-bd9e-5366932c974c",
   "metadata": {},
   "source": [
    "### Reading Data"
   ]
  },
  {
   "cell_type": "code",
   "execution_count": 6,
   "id": "bfdca76a-be89-45a7-a20c-a4a71fec96ec",
   "metadata": {},
   "outputs": [],
   "source": [
    "data = pd.read_csv(\"../datasets/cars.csv\")\n",
    "atribute_names = ['buying','maint','doors','persons','lug_boot','safety']\n",
    "objective_names = ['acceptability']"
   ]
  },
  {
   "cell_type": "markdown",
   "id": "251b2de5-6943-4a34-9571-54a46d2d4699",
   "metadata": {},
   "source": [
    "### Using my implementation of NB classifier"
   ]
  },
  {
   "cell_type": "code",
   "execution_count": 7,
   "id": "5cefc996-b692-4bf5-920f-d19e4241a227",
   "metadata": {},
   "outputs": [],
   "source": [
    "classifier = NaiveBayesClassifier(k=1)\n",
    "classifier.fit(dataf=data, x_names=atribute_names, y_names=objective_names)"
   ]
  },
  {
   "cell_type": "code",
   "execution_count": 8,
   "id": "196e4eb1-4708-44c1-a10c-85e00d364641",
   "metadata": {},
   "outputs": [
    {
     "data": {
      "text/plain": [
       "({'acc': -31.240123697577744,\n",
       "  'good': -34.480400510117896,\n",
       "  'unacc': -18.229669892846225,\n",
       "  'vgood': -37.65019558919418},\n",
       " 'unacc')"
      ]
     },
     "execution_count": 8,
     "metadata": {},
     "output_type": "execute_result"
    }
   ],
   "source": [
    "example = data.iloc[0,0:-1]\n",
    "classifier.predict(example)"
   ]
  },
  {
   "cell_type": "markdown",
   "id": "3465e51b-6d20-4d3e-b0a7-8eb37cd6da68",
   "metadata": {},
   "source": [
    "### Usign SkLearn's implementation of NB classifier"
   ]
  },
  {
   "cell_type": "code",
   "execution_count": null,
   "id": "ef2b7bd6-a315-4330-91cc-f9b0caac39ea",
   "metadata": {},
   "outputs": [],
   "source": []
  }
 ],
 "metadata": {
  "kernelspec": {
   "display_name": "Python 3 (ipykernel)",
   "language": "python",
   "name": "python3"
  },
  "language_info": {
   "codemirror_mode": {
    "name": "ipython",
    "version": 3
   },
   "file_extension": ".py",
   "mimetype": "text/x-python",
   "name": "python",
   "nbconvert_exporter": "python",
   "pygments_lexer": "ipython3",
   "version": "3.11.0"
  }
 },
 "nbformat": 4,
 "nbformat_minor": 5
}
