{
 "cells": [
  {
   "cell_type": "code",
   "execution_count": 248,
   "id": "303ecd34-7b14-44a0-ad8c-e3ffa54efe05",
   "metadata": {},
   "outputs": [],
   "source": [
    "import pandas as pd\n",
    "import numpy as np\n",
    "import matplotlib.pyplot as plt"
   ]
  },
  {
   "cell_type": "code",
   "execution_count": 249,
   "id": "dd5de1b9-128c-4b82-aa94-c313e74f4ba8",
   "metadata": {},
   "outputs": [
    {
     "data": {
      "text/html": [
       "<div>\n",
       "<style scoped>\n",
       "    .dataframe tbody tr th:only-of-type {\n",
       "        vertical-align: middle;\n",
       "    }\n",
       "\n",
       "    .dataframe tbody tr th {\n",
       "        vertical-align: top;\n",
       "    }\n",
       "\n",
       "    .dataframe thead th {\n",
       "        text-align: right;\n",
       "    }\n",
       "</style>\n",
       "<table border=\"1\" class=\"dataframe\">\n",
       "  <thead>\n",
       "    <tr style=\"text-align: right;\">\n",
       "      <th></th>\n",
       "      <th>buying</th>\n",
       "      <th>maint</th>\n",
       "      <th>doors</th>\n",
       "      <th>persons</th>\n",
       "      <th>lug_boot</th>\n",
       "      <th>safety</th>\n",
       "      <th>acceptability</th>\n",
       "    </tr>\n",
       "  </thead>\n",
       "  <tbody>\n",
       "    <tr>\n",
       "      <th>0</th>\n",
       "      <td>vhigh</td>\n",
       "      <td>vhigh</td>\n",
       "      <td>2</td>\n",
       "      <td>2</td>\n",
       "      <td>small</td>\n",
       "      <td>low</td>\n",
       "      <td>unacc</td>\n",
       "    </tr>\n",
       "    <tr>\n",
       "      <th>1</th>\n",
       "      <td>vhigh</td>\n",
       "      <td>vhigh</td>\n",
       "      <td>2</td>\n",
       "      <td>2</td>\n",
       "      <td>small</td>\n",
       "      <td>med</td>\n",
       "      <td>unacc</td>\n",
       "    </tr>\n",
       "    <tr>\n",
       "      <th>2</th>\n",
       "      <td>vhigh</td>\n",
       "      <td>vhigh</td>\n",
       "      <td>2</td>\n",
       "      <td>2</td>\n",
       "      <td>small</td>\n",
       "      <td>high</td>\n",
       "      <td>unacc</td>\n",
       "    </tr>\n",
       "    <tr>\n",
       "      <th>3</th>\n",
       "      <td>vhigh</td>\n",
       "      <td>vhigh</td>\n",
       "      <td>2</td>\n",
       "      <td>2</td>\n",
       "      <td>med</td>\n",
       "      <td>low</td>\n",
       "      <td>unacc</td>\n",
       "    </tr>\n",
       "    <tr>\n",
       "      <th>4</th>\n",
       "      <td>vhigh</td>\n",
       "      <td>vhigh</td>\n",
       "      <td>2</td>\n",
       "      <td>2</td>\n",
       "      <td>med</td>\n",
       "      <td>med</td>\n",
       "      <td>unacc</td>\n",
       "    </tr>\n",
       "  </tbody>\n",
       "</table>\n",
       "</div>"
      ],
      "text/plain": [
       "  buying  maint doors persons lug_boot safety acceptability\n",
       "0  vhigh  vhigh     2       2    small    low         unacc\n",
       "1  vhigh  vhigh     2       2    small    med         unacc\n",
       "2  vhigh  vhigh     2       2    small   high         unacc\n",
       "3  vhigh  vhigh     2       2      med    low         unacc\n",
       "4  vhigh  vhigh     2       2      med    med         unacc"
      ]
     },
     "execution_count": 249,
     "metadata": {},
     "output_type": "execute_result"
    }
   ],
   "source": [
    "data = pd.read_csv(\"../datasets/cars.csv\")\n",
    "data.head()"
   ]
  },
  {
   "cell_type": "code",
   "execution_count": 250,
   "id": "e715d422-a715-40bb-9c26-3f3985a72731",
   "metadata": {},
   "outputs": [],
   "source": [
    "atribute_names = ['buying','maint','doors','persons','lug_boot','safety']\n",
    "objective_names = ['acceptability']"
   ]
  },
  {
   "cell_type": "code",
   "execution_count": 365,
   "id": "4474623b-aac6-4ffe-a87e-f5b04e5c7df0",
   "metadata": {},
   "outputs": [],
   "source": [
    "def train_NB(data:pd.DataFrame, x_names:list, y_names:list, k=1.0):\n",
    "    groups = data.groupby(y_names)\n",
    "    classes = list(groups.indices.keys())\n",
    "    numClasses = len(classes)\n",
    "    possible_values = {a: data[a].unique() for a in x_names}\n",
    "    \n",
    "    probabilities = dict()\n",
    "    for c in classes:\n",
    "                        # Condition prevents warnings when classes are (not) tuples\n",
    "        g = groups.get_group(c if type(c) == tuple else (c,)) #For each class we calc\n",
    "        probabilities[c] = {}\n",
    "        probabilities[c][c] = int(groups.size()[c])/sum(groups.size()) #Probability of that class\n",
    "        for a in x_names:\n",
    "            probabilities[c][a] = (g[a].value_counts().reindex(possible_values[a],fill_value=0) + k)/(g.size +k*len(possible_values[a])) #Conditioned probabilities for that class and each attribute value\n",
    "   \n",
    "    return probabilities\n",
    "\n",
    "def predict(probabilities: dict, example: pd.Series):\n",
    "    preds = {}\n",
    "    for c in list(probabilities.keys()):\n",
    "        pred = np.log(probabilities[c][c])\n",
    "        for a in list(example.keys()):\n",
    "            pred += np.log(probabilities[c][a][example[a]])\n",
    "        preds[c] = float(pred)\n",
    "    return preds,max(preds,key=lambda x: preds[x])"
   ]
  },
  {
   "cell_type": "code",
   "execution_count": 366,
   "id": "299baf38-8c6e-4941-adb7-2ea84c84cb7e",
   "metadata": {},
   "outputs": [],
   "source": [
    "probabilities = train_NB(data,atribute_names,objective_names)"
   ]
  },
  {
   "cell_type": "code",
   "execution_count": 367,
   "id": "7bffae4e-6373-4c2e-961b-adc7ed1cce1c",
   "metadata": {},
   "outputs": [],
   "source": [
    "example = data.iloc[0,0:-1]"
   ]
  },
  {
   "cell_type": "code",
   "execution_count": 368,
   "id": "a7b0ec60-68c3-40a2-9864-24b56ed23c1d",
   "metadata": {},
   "outputs": [
    {
     "data": {
      "text/plain": [
       "({'acc': -31.240123697577744,\n",
       "  'good': -34.480400510117896,\n",
       "  'unacc': -18.229669892846225,\n",
       "  'vgood': -37.65019558919418},\n",
       " 'unacc')"
      ]
     },
     "execution_count": 368,
     "metadata": {},
     "output_type": "execute_result"
    }
   ],
   "source": [
    "predict(probabilities,example)        "
   ]
  },
  {
   "cell_type": "code",
   "execution_count": null,
   "id": "8d6962df-f2ef-4d8c-b402-d161b5c0b71b",
   "metadata": {},
   "outputs": [],
   "source": []
  },
  {
   "cell_type": "code",
   "execution_count": 380,
   "id": "1c5711cd-5536-4ed2-b687-2265225622d2",
   "metadata": {},
   "outputs": [],
   "source": [
    "class NaiveBayesClassifier:\n",
    "    def __init__(self,k):\n",
    "        self.k = k\n",
    "        self.probabilities = {}\n",
    "    \n",
    "    def fit(self,dataf:pd.DataFrame, x_names:list, y_names:list):\n",
    "        groups = dataf.groupby(y_names)\n",
    "        self.classes = list(groups.indices.keys())\n",
    "        self.numClasses = len(classes)\n",
    "        self.possible_values = {a: dataf[a].unique() for a in x_names}\n",
    "        \n",
    "        for c in self.classes:\n",
    "                            # Condition prevents warnings when classes are (not) tuples\n",
    "            g = groups.get_group(c if type(c) == tuple else (c,)) #For each class we calc\n",
    "            self.probabilities[c] = {}\n",
    "            self.probabilities[c][c] = int(groups.size()[c])/sum(groups.size()) #Probability of that class\n",
    "            for a in x_names:\n",
    "               self.probabilities[c][a] = (g[a].value_counts().reindex(self.possible_values[a],fill_value=0) + self.k) \\\n",
    "                     /(g.size +self.k*len(self.possible_values[a]))\n",
    "                    #Conditioned probabilities for that class and each attribute value\n",
    "\n",
    "    def predict(self,example:pd.Series):\n",
    "            preds = {}\n",
    "            for c in list(probabilities.keys()):\n",
    "                pred = np.log(probabilities[c][c]) #Probability of a class. We use logs to prevent underflow[log(a)+log(b)=log(ab)]\n",
    "                for a in list(example.keys()):\n",
    "                    pred += np.log(probabilities[c][a][example[a]]) #Conditional probability of tha atribute value for that class\n",
    "                preds[c] = float(pred)\n",
    "            return preds,max(preds,key=lambda x: preds[x])"
   ]
  },
  {
   "cell_type": "code",
   "execution_count": 381,
   "id": "b4357f43-23a2-4404-b668-74e7a2006c19",
   "metadata": {},
   "outputs": [],
   "source": [
    "classifier = NaiveBayesClassifier(k=1)\n",
    "\n",
    "classifier.fit(dataf=data, x_names=atribute_names, y_names=objective_names)"
   ]
  },
  {
   "cell_type": "code",
   "execution_count": 382,
   "id": "f50a0b84-cca2-42e7-abf7-ea419f7f551b",
   "metadata": {},
   "outputs": [
    {
     "data": {
      "text/plain": [
       "({'acc': -31.240123697577744,\n",
       "  'good': -34.480400510117896,\n",
       "  'unacc': -18.229669892846225,\n",
       "  'vgood': -37.65019558919418},\n",
       " 'unacc')"
      ]
     },
     "execution_count": 382,
     "metadata": {},
     "output_type": "execute_result"
    }
   ],
   "source": [
    "classifier.predict(example)"
   ]
  },
  {
   "cell_type": "code",
   "execution_count": null,
   "id": "f88c7fd8-9a66-455d-abf9-87ecee6c0684",
   "metadata": {},
   "outputs": [],
   "source": []
  }
 ],
 "metadata": {
  "kernelspec": {
   "display_name": "Python 3 (ipykernel)",
   "language": "python",
   "name": "python3"
  },
  "language_info": {
   "codemirror_mode": {
    "name": "ipython",
    "version": 3
   },
   "file_extension": ".py",
   "mimetype": "text/x-python",
   "name": "python",
   "nbconvert_exporter": "python",
   "pygments_lexer": "ipython3",
   "version": "3.11.0"
  }
 },
 "nbformat": 4,
 "nbformat_minor": 5
}
